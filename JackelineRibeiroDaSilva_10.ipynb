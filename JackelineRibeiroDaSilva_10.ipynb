{
  "nbformat": 4,
  "nbformat_minor": 0,
  "metadata": {
    "colab": {
      "name": "Atividade10_JackelineRibeiroDaSilva.ipynb",
      "provenance": [],
      "include_colab_link": true
    },
    "kernelspec": {
      "name": "python3",
      "display_name": "Python 3"
    },
    "language_info": {
      "name": "python"
    }
  },
  "cells": [
    {
      "cell_type": "markdown",
      "metadata": {
        "id": "view-in-github",
        "colab_type": "text"
      },
      "source": [
        "<a href=\"https://colab.research.google.com/github/jackelinerisil/Comunica-o-e-Redes/blob/main/JackelineRibeiroDaSilva_10.ipynb\" target=\"_parent\"><img src=\"https://colab.research.google.com/assets/colab-badge.svg\" alt=\"Open In Colab\"/></a>"
      ]
    },
    {
      "cell_type": "markdown",
      "metadata": {
        "id": "IR2yBSrPyvwx"
      },
      "source": [
        "Esta atividade inclui exercícios dos diversos tópicos vistos na disciplina.\n",
        "\n",
        "---\n"
      ]
    },
    {
      "cell_type": "markdown",
      "metadata": {
        "id": "IvslGYlFHuzz"
      },
      "source": [
        "### Exercício 1 - Códigos Secretos\n",
        "\n",
        "Uma possível maneira de enviar cédigos secretos é codificar usando uma letra de cada palavra. Uma maneira que já vimos em uma atividade anterior foi utilizar a primeira letra de cada palavra. Mas este é fácil de decifrar. Vamos agora fazer um mais sofisticado.\n",
        "\n",
        "O código consistirá de 2 partes. A primeira é um texto, no formato de string. A segunda é uma lista de inteiros, indicando qual letra de cada palavra deve ser selecionada. 0 indica que aquela palavra deve ser ignorada, 1 indica a primeira letra, 2 a segunda, e assim por diante.\n",
        "\n",
        "Exemplo: \n",
        "```\n",
        "frase = \"Uma maneira que ja vimos em uma atividade anterior\"\n",
        "lista = [ 0 6 0 2 2 0 0 0 7] \n",
        "codigo = \"raio\"\n",
        "```\n",
        "\n",
        "Escreva uma função que recebe uma frase e uma lista, e devolve o código.\n",
        "\n",
        "Dica: Use o comando `split()` do Python\n",
        "\n"
      ]
    },
    {
      "cell_type": "code",
      "metadata": {
        "id": "MALMJGiEILBb",
        "colab": {
          "base_uri": "https://localhost:8080/"
        },
        "outputId": "0e958c7b-48e8-4662-d6ce-2e1612ca5172"
      },
      "source": [
        "def codigo_secreto(frase,lista):\n",
        "    cont = 0\n",
        "    codigo = []\n",
        "    for i in lista:\n",
        "       if lista[cont] != 0:\n",
        "            j = frase[cont]\n",
        "            codigo.append(j[i-1])\n",
        "       cont += 1\n",
        "    return codigo\n",
        "      \n",
        "\n",
        "frase = \"Uma maneira que ja vimos em uma atividade anterior\"\n",
        "frase = frase.split()\n",
        "lista = [0, 6, 0, 2, 2, 0, 0, 0, 7]\n",
        "codigo = codigo_secreto(frase,lista)\n",
        "for i in range(0,len(codigo)):\n",
        "   print(codigo[i],end='')        "
      ],
      "execution_count": null,
      "outputs": [
        {
          "output_type": "stream",
          "text": [
            "raio"
          ],
          "name": "stdout"
        }
      ]
    },
    {
      "cell_type": "markdown",
      "metadata": {
        "id": "-zxyCK7QzAgt"
      },
      "source": [
        "### Exercício 2 - Dígitos verificadores do CPF\n",
        "\n",
        "Texto retirado do site: https://www.somatematica.com.br/faq/cpf.php\n",
        "\n",
        "O CPF (Cadastro de Pessoas Físicas), emitido pela Receita Federal, é caracterizado por uma função entre o conjunto das pessoas físicas cadastradas e o conjunto dos documentos emitidos. Ou seja, o fato de um número de CPF ser autenticado pelos seus dígitos verificadores, não o torna um CPF válido, pois é necessário que ele esteja cadastrado no banco de dados da Receita Federal. Assim, um número válido de CPF nem sempre será um documento já emitido. Porém, os dígitos verificadores servem para alertar que o número foi escrito de forma inadequada, sem precisar acessar o banco de dados da Receita Federal.\n",
        "\n",
        "**Regra Prática**\n",
        "\n",
        "O número de um CPF tem 9 algarismos e mais dois dígitos verificadores, que são indicados após uma barra. Logo, um CPF tem 11 algarismos. O número do CPF é escrito na forma ABCDEFGHI/JK ou diretamente como ABCDEFGHIJK, onde os algarismos não podem ser todos iguais entre si.\n",
        "\n",
        "O J é chamado 1° dígito verificador do número do CPF.\n",
        "\n",
        "O K é chamado 2° dígito verificador do número do CPF.\n",
        "\n",
        "**Primeiro Dígito**\n",
        "\n",
        "Para obter J multiplicamos A, B, C, D, E, F, G, H e I pelas constantes correspondentes:\n",
        "\n",
        "```\n",
        "  A  B  C  D  E  F  G  H  I\n",
        "x10 x9 x8 x7 x6 x5 x4 x3 x2\n",
        "```\n",
        "\n",
        "O resultado da soma, 10A + 9B + 8C + 7D + 6E + 5F + 4G + 3H + 2I, é dividido por 11.\n",
        "\n",
        "Analisamos então o RESTO dessa divisão: \n",
        "\n",
        "Se for 0 ou 1, o dígito J é [0] (zero). \n",
        "\n",
        "Se for 2, 3, 4, 5, 6, 7, 8, 9 ou 10, o dígito J é [11 - RESTO]\n",
        "\n",
        "**Segundo Dígito**\n",
        "\n",
        "Já temos J. Para obter K multiplicamos A, B, C, D, E, F, G, H, I e J pelas constantes correspondentes:\n",
        "\n",
        "```\n",
        "  A   B  C  D  E  F  G  H  I  J\n",
        "x11 x10 x9 x8 x7 x6 x5 x4 x3 x2\n",
        "```\n",
        "\n",
        "O resultado da soma, 11A + 10B + 9C + 8D + 7E + 6F + 5G + 4H + 3I + 2J, é dividido por 11.\n",
        "\n",
        "Verificamos então o RESTO dessa divisão:\n",
        "\n",
        "Se for 0 ou 1, o dígito K é [0] (zero). \n",
        "\n",
        "Se for 2, 3, 4, 5, 6, 7, 8, 9 ou 10, o dígito K é [11 - RESTO].\n",
        "\n",
        "---\n",
        "---\n",
        "\n",
        "**Exercício:** Faça uma função que recebe uma string com o número do CPF no formato de string `\"ABCDEFGHI-JK\"` e verifica se ele é válido ou não. \n",
        "\n",
        "Dica1: O comando `list('ABC')` retorna a lista de caracteres `['A','B','C']`\n",
        "Dica2: O comando `int('5')` retorna o número `5`\n",
        "\n",
        "Teste para alguns CPFs que você conheça. \n",
        "\n",
        "Mas apague os número antes de me enviar a atividade :-)\n"
      ]
    },
    {
      "cell_type": "code",
      "metadata": {
        "id": "sMXyCAJcy9CE",
        "colab": {
          "base_uri": "https://localhost:8080/"
        },
        "outputId": "7e6a7ad7-15de-498f-b047-e9c71305e018"
      },
      "source": [
        "def cpf_valido(numero) -> list:\n",
        "  j_valido = bool\n",
        "  k_valido = bool\n",
        "  resto_1 = (int(numero[0])*10 + int(numero[1])*9 + int(numero[2])*8 + int(numero[3])*7 + int(numero[4])*6 +\n",
        "    int(numero[5])*5 + int(numero[6])*4 + int(numero[7])*3 + int(numero[8])*2) % 11\n",
        "  resto_2 = (int(numero[0])*11 + int(numero[1])*10 + int(numero[2])*9 + int(numero[3])*8 + int(numero[4])*7 +\n",
        "    int(numero[5])*6 + int(numero[6])*5 + int(numero[7])*4 + int(numero[8])*3 + int(numero[10])*2) % 11\n",
        "\n",
        "  if ((resto_1 == 0 or resto_1 == 1) and (int(numero[10]) == 0)) or ((resto_1!= 0 or resto_1!= 1) and (int(numero[10]) == (11 - resto_1))):\n",
        "      j_valido = True\n",
        "  else:\n",
        "      j_valido = False \n",
        "\n",
        "  if ((resto_2 == 0 or resto_2 == 1) and (int(numero[11]) == 0)) or ((resto_2!= 0 or resto_2!= 1) and (int(numero[11]) == (11 - resto_2))):\n",
        "      k_valido = True\n",
        "  else:\n",
        "      k_valido = False\n",
        "      \n",
        "  if j_valido == True and k_valido == True:\n",
        "    print(\"CPF Válido\")\n",
        "  else:\n",
        "    print(\"CPF Inválido\")\n",
        "\n",
        "# teste feito com um número qualquer no formato do número do cpf sendo a saída para ele inválida.\n",
        "numero = \"097338668-21\"\n",
        "print(cpf_valido(numero))\n"
      ],
      "execution_count": null,
      "outputs": [
        {
          "output_type": "stream",
          "text": [
            "CPF Inválido\n",
            "None\n"
          ],
          "name": "stdout"
        }
      ]
    }
  ]
}