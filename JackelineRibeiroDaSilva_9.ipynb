{
  "nbformat": 4,
  "nbformat_minor": 0,
  "metadata": {
    "colab": {
      "name": "Atividade9_JackelineRibeiroDaSilva.ipynb",
      "provenance": [],
      "collapsed_sections": [],
      "include_colab_link": true
    },
    "kernelspec": {
      "name": "python3",
      "display_name": "Python 3"
    },
    "language_info": {
      "name": "python"
    }
  },
  "cells": [
    {
      "cell_type": "markdown",
      "metadata": {
        "id": "view-in-github",
        "colab_type": "text"
      },
      "source": [
        "<a href=\"https://colab.research.google.com/github/jackelinerisil/Comunica-o-e-Redes/blob/main/JackelineRibeiroDaSilva_9.ipynb\" target=\"_parent\"><img src=\"https://colab.research.google.com/assets/colab-badge.svg\" alt=\"Open In Colab\"/></a>"
      ]
    },
    {
      "cell_type": "markdown",
      "metadata": {
        "id": "IvslGYlFHuzz"
      },
      "source": [
        "# Enunciado Geral\n",
        "\n",
        "Nesta atividade iremos criar um robô capaz de navegar e encontrar a saída de uma sala. A sala é representada por valores:\n",
        "- `X` paredes\n",
        "- '` `' espaços vazios\n",
        "- `*` a porta de saída\n",
        "- `@` o Robô \n",
        "\n",
        "Exemplo:\n",
        "```\n",
        "XXXXXXXXXXXX\n",
        "X          X \n",
        "X  XXXXXX  X \n",
        "X @X       X \n",
        "X  X       X\n",
        "XXXXXX*XXXXX\n",
        "```\n",
        "\n",
        "Iremos fazer o código de controle do robô com diferentes níveis de sofisticação.\n",
        "\n",
        "---\n"
      ]
    },
    {
      "cell_type": "markdown",
      "metadata": {
        "id": "29VRbW_Tf7Bs"
      },
      "source": [
        "### Exercício 1\n",
        "\n",
        "Escreva uma função que recebe o mapa representado por uma matriz no formato de lista e imprime a matriz.\n",
        "\n",
        "Em seguida, crie a matriz que permita gerar o mapa do enunciado e chame a função criad. Verifique se ela imprime o mapa igual ao que está no enunciado."
      ]
    },
    {
      "cell_type": "code",
      "metadata": {
        "colab": {
          "base_uri": "https://localhost:8080/"
        },
        "id": "4lUTZ76h3XJB",
        "outputId": "6ac6351c-1d91-4b17-dfd6-5d9299402376"
      },
      "source": [
        "def criar_matriz(mapa):\n",
        "  for l in range(len(mapa)):\n",
        "    for c in range(len(mapa[l])):\n",
        "      print(mapa[l][c],end=\"\")\n",
        "      if c == len(mapa[l])-1:\n",
        "          print()\n",
        "\n",
        "mapa = [[\"XXXXXXXXXXXX\"],[\"X\",\" \",\" \",\" \",\" \",\" \",\" \",\" \",\" \",\" \",\" \",\"X\"],\n",
        "         [\"X\",\" \",\" \",\"XXXXXX\",\" \",\" \",\"X\"],[\"X\",\" \",\"@\",\"X\",\" \",\" \",\" \",\" \",\" \",\" \",\" \",\"X\"],\n",
        "         [\"X\",\" \",\" \",\"X\",\" \",\" \",\" \",\" \",\" \",\" \",\" \",\"X\"],[\"XXXXXX*XXXXX\"]]\n",
        "criar_matriz(mapa)"
      ],
      "execution_count": null,
      "outputs": [
        {
          "output_type": "stream",
          "text": [
            "XXXXXXXXXXXX\n",
            "X          X\n",
            "X  XXXXXX  X\n",
            "X @X       X\n",
            "X  X       X\n",
            "XXXXXX*XXXXX\n"
          ],
          "name": "stdout"
        }
      ]
    },
    {
      "cell_type": "markdown",
      "metadata": {
        "id": "k5TyHYQRSA-U"
      },
      "source": [
        "### Exercício 2\n",
        "\n",
        "Agora faremos o primeiro algoritmo para controle do robô. Ele será um algoritmo bem simples, onde o robô verifica quais de suas 4 posições vizinhas (N, S, L, O) estão vazias:\n",
        "\n",
        "```\n",
        " N\n",
        "O@L\n",
        " S\n",
        "```\n",
        "\n",
        "O robô escolhe então aleatoriamente uma destas posições e avança. \n",
        "\n",
        "Escreva uma função que recebe como entrada o mapa atual e devolve um novo mapa contendo o robô após ele avançar uma posição. Exemplo:\n",
        "\n",
        "Entrada\n",
        "```\n",
        "XXXXXXXXXXXX\n",
        "X          X \n",
        "X  XXXXXX  X \n",
        "X @X       X \n",
        "X  X       X\n",
        "XXXXXX*XXXXX\n",
        "```\n",
        "\n",
        "Saída\n",
        "```\n",
        "XXXXXXXXXXXX\n",
        "X          X \n",
        "X @XXXXXX  X \n",
        "X  X       X \n",
        "X  X       X\n",
        "XXXXXX*XXXXX\n",
        "```\n",
        "A função deve devolver uma matriz com o mapa e a direção em que ele se movimentou (N, S, L ou O). No caso acima, N."
      ]
    },
    {
      "cell_type": "code",
      "metadata": {
        "id": "bZxtTm9XTOhi",
        "colab": {
          "base_uri": "https://localhost:8080/"
        },
        "outputId": "6e78d6e9-9194-4b29-c0d9-469b3be6739a"
      },
      "source": [
        "import random\n",
        "\n",
        "M = [[\"XXXXXXXXXXXX\"],[\"X\",\" \",\" \",\" \",\" \",\" \",\" \",\" \",\" \",\" \",\" \",\"X\"],\n",
        "         [\"X\",\" \",\" \",\"XXXXXX\",\" \",\" \",\"X\"],[\"X\",\" \",\"@\",\"X\",\" \",\" \",\" \",\" \",\" \",\" \",\" \",\"X\"],\n",
        "         [\"X\",\" \",\" \",\"X\",\" \",\" \",\" \",\" \",\" \",\" \",\" \",\"X\"],[\"XXXXXX*XXXXX\"]]\n",
        "\n",
        "\n",
        "for l in range(len(M)):\n",
        "  for c in range(len(M[l])):\n",
        "    x = random.randint(1,4)\n",
        "    if M[4][3] == \"@\" and M[4][2] == \" \" and x == 1:\n",
        "         M[4][3] = \" \"\n",
        "         M[4][2] = \"@\"\n",
        "    elif M[4][3] == \"@\" and M[4][4] == \" \" and x == 2:\n",
        "         M[4][3] = \" \"\n",
        "         M[4][4] = \"@\"\n",
        "    elif M[4][3] == \"@\" and M[5][3] == \" \" and x == 3:\n",
        "         M[4][3] = \" \"\n",
        "         M[5][3] = \"@\"\n",
        "    if M[4][3] == \"@\" and M[3][3] == \" \" and x == 4: \n",
        "         M[4][3] = \" \"\n",
        "         M[3][3] = \"@\"\n",
        "    print(mapa[l][c],end=\"\")\n",
        "    if c == len(mapa[l])-1:\n",
        "          print()\n",
        "    "
      ],
      "execution_count": null,
      "outputs": [
        {
          "output_type": "stream",
          "text": [
            "XXXXXXXXXXXX\n",
            "X          X\n",
            "X  XXXXXX  X\n",
            "X @X       X\n",
            "X  X       X\n",
            "XXXXXX*XXXXX\n"
          ],
          "name": "stdout"
        }
      ]
    },
    {
      "cell_type": "markdown",
      "metadata": {
        "id": "H07cUZolTPFQ"
      },
      "source": [
        "### Exercício 3\n",
        "\n",
        "Escreva uma função que recebe o mapa inicial e repete o processo de mover o robô em uma posição até que o robô consiga encontra a saída. \n",
        "\n",
        "A função deve devolver uma lista de movimentos até a saída do mapa. A lista deve conter as direções seguidas em cada movimento (N, S, L ou O). Exemplo:\n",
        "\n",
        "Entrada\n",
        "```\n",
        "XXXXXXXXXXXX\n",
        "X          X \n",
        "X  XXXXXX  X \n",
        "X @X       X \n",
        "X  X       X\n",
        "XXXXXX*XXXXX\n",
        "```\n",
        "\n",
        "Saída\n",
        "```\n",
        "NNLLLLLLLSSSOOOS\n",
        "```\n"
      ]
    }
  ]
}